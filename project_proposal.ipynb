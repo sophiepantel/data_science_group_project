{
 "cells": [
  {
   "cell_type": "markdown",
   "metadata": {},
   "source": [
    "This is the Project Proposal for our Data Science group project."
   ]
  },
  {
   "cell_type": "code",
   "execution_count": 7,
   "metadata": {},
   "outputs": [],
   "source": [
    "library(tidyverse)\n",
    "library(repr)"
   ]
  },
  {
   "cell_type": "code",
   "execution_count": 8,
   "metadata": {},
   "outputs": [
    {
     "ename": "ERROR",
     "evalue": "Error in read_delim(data = \"processed.switzerland.data\", delim = \",\", : unused argument (data = \"processed.switzerland.data\")\n",
     "output_type": "error",
     "traceback": [
      "Error in read_delim(data = \"processed.switzerland.data\", delim = \",\", : unused argument (data = \"processed.switzerland.data\")\nTraceback:\n"
     ]
    }
   ],
   "source": [
    "heart_disease <- read_delim(data=\"processed.switzerland.data\", delim=\",\", col_names=FALSE)"
   ]
  },
  {
   "cell_type": "code",
   "execution_count": null,
   "metadata": {},
   "outputs": [],
   "source": []
  }
 ],
 "metadata": {
  "kernelspec": {
   "display_name": "R",
   "language": "R",
   "name": "ir"
  },
  "language_info": {
   "codemirror_mode": "r",
   "file_extension": ".r",
   "mimetype": "text/x-r-source",
   "name": "R",
   "pygments_lexer": "r",
   "version": "4.0.0"
  }
 },
 "nbformat": 4,
 "nbformat_minor": 4
}
